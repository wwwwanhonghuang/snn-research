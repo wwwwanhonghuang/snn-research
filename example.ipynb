{
 "cells": [
  {
   "cell_type": "markdown",
   "id": "f70d5d31-72e6-4248-b153-9a8513764b83",
   "metadata": {},
   "source": [
    "## Import library"
   ]
  },
  {
   "cell_type": "code",
   "execution_count": null,
   "id": "4407900e-b0d8-43ea-ac62-5759c5a8184b",
   "metadata": {},
   "outputs": [],
   "source": [
    "import os, sys\n",
    "sys.path.append(\"../\")\n",
    "from snn_lib.neuron_models.leaky_intergrate_and_fire_model import *\n",
    "from snn_lib.neuron_models.point_process_model import *\n",
    "from snn_lib.neuron_models.fixed_spike_train_neuron_model import FixedSpikeTrainNeuronModel\n",
    "\n",
    "from snn_lib.synapse_models.delay_connection import *\n",
    "from snn_lib.synapse_models.exponential_synapse import *\n",
    "\n",
    "from snn_lib.connections.full_connection import *\n",
    "from snn_lib.connections.possibility_connection import *\n",
    "from snn_lib.connections.all_to_all_connection import *\n",
    "from snn_lib.connections.one_to_one_connection import OneToOneConnection\n",
    "from snn_lib.connections.custom_connection import CustomConnection, CustomOneToOneConnection, CustomAllToAllConnection\n",
    "\n",
    "from snn_lib.monitors.neuron_monitors import NeuronOutputMonitor, NeuronMembranePotentialMonitor\n",
    "from snn_lib.monitors.synapse_monitors import *\n",
    "from snn_lib.monitors.network_recorder_manager import NetworkRecorderManager\n",
    "\n",
    "from snn_lib.network.network_builder import NetworkBuilder\n",
    "\n",
    "from snn_lib.plots.snn_recorder_plot import plot_neuron_record\n",
    "from snn_lib.plots.neuron_plot import plot_possion_neuron_raster\n",
    "\n",
    "from tqdm import tqdm\n",
    "import numpy as np\n",
    "import matplotlib.pyplot as plt\n",
    "import scipy.stats as stats\n",
    "import math"
   ]
  },
  {
   "cell_type": "code",
   "execution_count": null,
   "id": "43ed5b30-9d09-47db-8cac-b231e86270d8",
   "metadata": {},
   "outputs": [],
   "source": [
    "network_builder = NetworkBuilder()"
   ]
  },
  {
   "cell_type": "code",
   "execution_count": null,
   "id": "6c581055-dc76-4761-89a8-b303dc118905",
   "metadata": {},
   "outputs": [],
   "source": [
    "time_steps = 2000 # simulation time steps\n",
    "freq = 500     # count of sample per second.  \n",
    "dt = 1 / freq  # time step"
   ]
  },
  {
   "cell_type": "markdown",
   "id": "906e7906-9615-4ddc-81ad-c35f72e7eed5",
   "metadata": {},
   "source": [
    "## Generate Target and Input Spike Train According a Gaussian Distribution"
   ]
  },
  {
   "cell_type": "code",
   "execution_count": null,
   "id": "1f38051a-923f-483e-ae4b-f72c2caa1edd",
   "metadata": {},
   "outputs": [],
   "source": [
    "def generate_1_dim_gaussian_distribution(length, mu, variance, normalize=True):\n",
    "    mu = length / 2\n",
    "    variance = length\n",
    "    sigma = math.sqrt(variance)\n",
    "    x = np.linspace(mu - 3 * sigma, mu + 3 * sigma, length)\n",
    "    y = stats.norm.pdf(x, mu, sigma) \n",
    "    if normalize:\n",
    "       y = (y - min(y)) / (max(y) - min(y))\n",
    "    return y\n",
    "    \n",
    "\n",
    "# generate spike rate distribution\n",
    "target_spike_rates = generate_1_dim_gaussian_distribution(time_steps, time_steps / 2, time_steps, True) * freq"
   ]
  },
  {
   "cell_type": "code",
   "execution_count": null,
   "id": "6aa68a80-1014-4184-8d68-b9ae6c383014",
   "metadata": {},
   "outputs": [],
   "source": [
    "plt.plot(range(0, time_steps), (target_spike_rates).astype(int))\n",
    "plt.title(\"Spike Rate Distribution.\")\n",
    "x = np.arange(0, time_steps, freq)\n",
    "plt.xticks(x, x * dt , rotation='vertical')\n",
    "plt.xlabel(\"Time (s)\")\n",
    "plt.ylabel(\"Spike Rate (Hz)\")\n",
    "\n",
    "plt.show()"
   ]
  },
  {
   "cell_type": "code",
   "execution_count": null,
   "id": "dfb34cd1-4e5f-4c62-a232-13563e6e8c48",
   "metadata": {},
   "outputs": [],
   "source": [
    "target_output_neuron = PointProcessNeuron(N = 1, fr_generator = target_spike_rates.reshape(time_steps, -1), hyperparameters = {'dt': dt, 'simulation_time_duration': time_steps * dt})\n",
    "target_spikes = target_output_neuron.spikes[:,0]\n",
    "target_spikes"
   ]
  },
  {
   "cell_type": "code",
   "execution_count": null,
   "id": "eddbf922-adf3-4ae8-9b23-1c3a1fe781b0",
   "metadata": {},
   "outputs": [],
   "source": [
    "plot_possion_neuron_raster(target_output_neuron)"
   ]
  },
  {
   "cell_type": "code",
   "execution_count": null,
   "id": "2b9eef3b-1962-4a5d-9c02-dc2cb4b9d01c",
   "metadata": {},
   "outputs": [],
   "source": [
    "n_inputs = 4\n",
    "input_spike_rates = np.zeros((time_steps, n_inputs))\n",
    "for i in range(n_inputs):\n",
    "    input_spike_rates[:,i] = generate_1_dim_gaussian_distribution(time_steps, time_steps / 2, time_steps, True) * freq\n",
    "\n",
    "input_gaussian_neuron = PointProcessNeuron(N = n_inputs, fr_generator = input_spike_rates, hyperparameters = {'dt': dt, 'simulation_time_duration': time_steps * dt})\n"
   ]
  },
  {
   "cell_type": "code",
   "execution_count": null,
   "id": "1e6de37e-fe6c-4006-af17-9768c6d70da4",
   "metadata": {},
   "outputs": [],
   "source": [
    "plot_possion_neuron_raster(input_gaussian_neuron)"
   ]
  },
  {
   "cell_type": "markdown",
   "id": "4505a812-4d9a-41fc-b419-c51e4d67b9c8",
   "metadata": {},
   "source": [
    "## Construct Network"
   ]
  },
  {
   "cell_type": "code",
   "execution_count": null,
   "id": "ea9c1447-03c6-4dc4-ad22-41d3f57e91f0",
   "metadata": {},
   "outputs": [],
   "source": [
    "n_reservior_neurons = 640\n",
    "connection_possibility = 0.2\n",
    "\n",
    "# --------------------------------------------- neurons ---------------------------------------------\n",
    "# Generate input neurons\n",
    "input_neuron = network_builder.add_neuron(f'input', input_gaussian_neuron )\n",
    "\n",
    "# Generate reservoir neurons\n",
    "reservoir_neuron = network_builder.add_neuron(f'reservoir', CurrentBasedLIFNeuron(n_reservior_neurons, {'dt': dt}))\n",
    "\n",
    "# Generate output neurons\n",
    "output_neuron = network_builder.add_neuron(f'output', CurrentBasedLIFNeuron(1, {'dt': dt}))\n",
    "\n",
    "\n",
    "# --------------------------------------------- connections ---------------------------------------------\n",
    "# Connection: reservoir -> reservoir. pre-post neurons are connected with possibility of 0.2, using double exponential synapse.\n",
    "network_builder.add_connection((f'reservoir', f'reservoir', PossibilityConnection(reservoir_neuron, reservoir_neuron, connection_possibility), \\\n",
    "                                DoubleExponentialSynapse(pre_N = n_reservior_neurons, post_N = n_reservior_neurons, dt = dt, td = 1e-2, tr = 5e-3)))\n",
    "\n",
    "# Connection: reservoir -> output. Pre-post neurons are connected by all to all connection, using double exponential synapse.\n",
    "network_builder.add_connection((f'reservoir', f'output', AllToAllConnection(reservoir_neuron, output_neuron), DoubleExponentialSynapse(n_reservior_neurons, 1,  dt = dt, td = 1e-2, tr = 5e-3)))\n",
    "\n",
    "# Connection: input -> reservoir. Pre-post neurons are connected by possibility connection, using double exponential synapse.\n",
    "network_builder.add_connection((f'input', f'reservoir', PossibilityConnection(input_neuron, reservoir_neuron, connection_possibility), DoubleExponentialSynapse(n_inputs, n_reservior_neurons, dt = dt, td = 1e-2, tr = 5e-3)))\n",
    "\n",
    "\n"
   ]
  },
  {
   "cell_type": "markdown",
   "id": "caa3e6b3-2567-4ca5-b8c3-19202bb9d53d",
   "metadata": {},
   "source": [
    "## Build Network"
   ]
  },
  {
   "cell_type": "code",
   "execution_count": null,
   "id": "0c0b85df-b8c7-4f33-90ab-07871442101b",
   "metadata": {},
   "outputs": [],
   "source": [
    "network = network_builder.build_network()\n",
    "network.initialize_network()"
   ]
  },
  {
   "cell_type": "markdown",
   "id": "a459c8c7-4ed3-4742-9a85-bc24793f81b4",
   "metadata": {},
   "source": [
    "## Build Recorders"
   ]
  },
  {
   "cell_type": "code",
   "execution_count": null,
   "id": "48b1d4cd-f415-49e9-bdc9-4c3afddccebf",
   "metadata": {},
   "outputs": [],
   "source": [
    "train_recorder = NetworkRecorderManager(network.neurons, network.connections)\n",
    "\n",
    "train_recorder.add_neuron_recorder('neuron_spike_series',  lambda : [], \\\n",
    "        lambda t, recorder, neuron, neuron_id, current_record, arg: current_record + [neuron._states[neuron._output_index]])\n",
    "\n",
    "train_recorder.add_neuron_recorder('neuron_mebrance_potential', lambda : [], \\\n",
    "        lambda t, recorder, neuron, neuron_id, current_record, arg: current_record + [neuron._states[neuron.INDEX_V]])\n"
   ]
  },
  {
   "cell_type": "code",
   "execution_count": null,
   "id": "0d3325f1-9c9a-4832-944a-4edfb971ddcd",
   "metadata": {},
   "outputs": [],
   "source": [
    "def repeat_vec(vec, repeat_times, axis = 0):\n",
    "    if axis == 1:\n",
    "        return np.repeat(vec.transpose()[:,np.newaxis ], repeat_times, axis=1)\n",
    "    elif axis == 0:\n",
    "        return  np.repeat(vec[np.newaxis,:], repeat_times, axis=0)"
   ]
  },
  {
   "cell_type": "code",
   "execution_count": null,
   "id": "d2cc05f3-1f7e-4a25-aca4-4815de994a88",
   "metadata": {},
   "outputs": [],
   "source": []
  },
  {
   "cell_type": "markdown",
   "id": "fee7a7f6-ba77-4fa3-9be8-dae3dfa875f1",
   "metadata": {},
   "source": [
    "## Functions for applying SuperSpike Algorithm"
   ]
  },
  {
   "cell_type": "code",
   "execution_count": null,
   "id": "eed1fe89-1fdc-4c8d-87c8-cdb047929df0",
   "metadata": {},
   "outputs": [],
   "source": [
    "global error_output_states\n",
    "global error_reservoir_reservoir_states\n",
    "global error_input_reservoir_states\n",
    "global lambda_ij_reservoir_output_states\n",
    "global lambda_ij_input_reservoir_states\n",
    "\n",
    "td=1e-2\n",
    "tr=5e-3\n",
    "b = (td / tr) ** (td / (tr - td))\n",
    "\n",
    "\n",
    "error_reservoir_reservoir_states = [np.zeros((n_reservior_neurons)), np.zeros((n_reservior_neurons))]\n",
    "error_output_states = [0, 0]\n",
    "error_input_reservoir_states = [np.zeros((n_inputs)), np.zeros((n_inputs))]\n",
    "\n",
    "lambda_ij_reservoir_output_states = [np.zeros((1, n_reservior_neurons)), np.zeros((1, n_reservior_neurons))]\n",
    "lambda_ij_reservoir_reservoir_states = [np.zeros((n_reservior_neurons, n_reservior_neurons)), np.zeros((n_reservior_neurons, n_reservior_neurons))]\n",
    "lambda_ij_input_reservoir_states = [np.zeros((n_reservior_neurons, n_inputs)), np.zeros((n_reservior_neurons, n_inputs))]\n",
    "\n",
    "def surrogate_derivative_fastsigmoid(u, beta=1, vthr=-50):\n",
    "    return 1 / (1 + np.abs(beta*(u - vthr)))**2\n",
    "    \n",
    "def update_error_output(t, target_spikes):\n",
    "    global error_output_states\n",
    "    output_spike = train_recorder.get_neuron_recorder('neuron_spike_series')['output'][t]\n",
    "    r = error_output_states[0]\n",
    "    hr = error_output_states[1]\n",
    "    r = r * (1 - dt / tr) + hr / td * dt\n",
    "    hr = hr * (1 - dt / td) + (target_spikes[t] - output_spike) / b\n",
    "    error_output_states = [r, hr]\n",
    "\n",
    "def update_lambda_ij_reservoir_output(t):\n",
    "    global lambda_ij_reservoir_output_states\n",
    "    e_output = error_output_states[0]\n",
    "    r = lambda_ij_reservoir_output_states[0]\n",
    "    hr = lambda_ij_reservoir_output_states[1]\n",
    "    r = r * (1 - dt / tr) + hr / td * dt\n",
    "    cnt_post_neurons = network.neurons['output'].n_neuron\n",
    "    cnt_pre_neurons = network.neurons['reservoir'].n_neuron\n",
    "\n",
    "    convolution_target = repeat_vec(surrogate_derivative_fastsigmoid(train_recorder.get_neuron_recorder('neuron_spike_series')['output'][t]), cnt_pre_neurons, axis = 1) * \\\n",
    "                           repeat_vec(train_recorder.get_neuron_recorder('neuron_mebrance_potential')['reservoir'][t], cnt_post_neurons, axis = 0)\n",
    "    hr = hr * (1 - dt / td) + convolution_target / b\n",
    "    lambda_ij_reservoir_output_states = [r, hr]\n",
    "\n",
    "def update_error_reservoir_reservoir(network, t):\n",
    "    global error_reservoir_reservoir_states\n",
    "    r1 = error_reservoir_reservoir_states[0]\n",
    "    r2 = error_output_states[0] * network.connections[1][2].W\n",
    "    r = r1 + r2\n",
    "    error_reservoir_reservoir_states = [r]\n",
    "\n",
    "def update_lambda_ij_reservoir_reservoir(t):\n",
    "    global lambda_ij_reservoir_reservoir_states\n",
    "    e_output = error_reservoir_reservoir_states[0]\n",
    "    r = lambda_ij_reservoir_reservoir_states[0]\n",
    "    hr = lambda_ij_reservoir_reservoir_states[1]\n",
    "    r = r * (1 - dt / tr) + hr / td * dt\n",
    "    \n",
    "    cnt_post_neurons = network.neurons['reservoir'].n_neuron\n",
    "    cnt_pre_neurons = network.neurons['reservoir'].n_neuron\n",
    "    convolution_target = repeat_vec(surrogate_derivative_fastsigmoid(train_recorder.get_neuron_recorder('neuron_spike_series')['reservoir'][t]), cnt_pre_neurons, axis = 1) * \\\n",
    "                            repeat_vec(train_recorder.get_neuron_recorder('neuron_mebrance_potential')['reservoir'][t], cnt_post_neurons, axis = 0)\n",
    "    hr = hr * (1 - dt / td) + convolution_target / b\n",
    "    lambda_ij_reservoir_reservoir_states = [r, hr]\n",
    "\n",
    "def update_error_input_reservoir(network, t):\n",
    "    global error_input_reservoir_states\n",
    "    r = error_output_states[0] * network.connections[2][2].W\n",
    "    error_input_reservoir_states = [r]\n",
    "    \n",
    "def update_lambda_ij_input_reservoir(t):\n",
    "    global lambda_ij_input_reservoir_states\n",
    "    e_output = error_input_reservoir_states[0]\n",
    "    r = lambda_ij_input_reservoir_states[0]\n",
    "    hr = lambda_ij_input_reservoir_states[1]\n",
    "    r = r * (1 - dt / tr) + hr / td * dt\n",
    "    cnt_post_neurons = network.neurons['reservoir'].n_neuron\n",
    "    cnt_pre_neurons = network.neurons['input'].n_neuron\n",
    "    convolution_target = repeat_vec(surrogate_derivative_fastsigmoid(train_recorder.get_neuron_recorder('neuron_spike_series')['reservoir'][t]), cnt_pre_neurons, axis = 1) * \\\n",
    "                            repeat_vec(train_recorder.get_neuron_recorder('neuron_mebrance_potential')['input'][t], cnt_post_neurons, axis = 0)\n",
    "    hr = hr * (1 - dt / td) + convolution_target / b\n",
    "    lambda_ij_input_reservoir_states = [r, hr]\n"
   ]
  },
  {
   "cell_type": "code",
   "execution_count": null,
   "id": "4277d4a0-ca1a-4492-9cf8-45df7f408498",
   "metadata": {},
   "outputs": [],
   "source": [
    "cost_record = []\n",
    "n_epoches = 100\n",
    "window_size = 500"
   ]
  },
  {
   "cell_type": "code",
   "execution_count": null,
   "id": "67ed37d1-084a-45cb-bf6f-ae5daf0d723e",
   "metadata": {},
   "outputs": [],
   "source": [
    "for epoch in range(5):\n",
    "    cost = 0\n",
    "    network.initialize_network(True)\n",
    "    train_recorder.initialize_recorders()\n",
    "    \n",
    "    error_reservoir_reservoir_states = [np.zeros((n_reservior_neurons)), np.zeros((n_reservior_neurons))]\n",
    "    error_output_states = [0, 0]\n",
    "    error_input_reservoir_states = [np.zeros((n_inputs)), np.zeros((n_inputs))]\n",
    "    \n",
    "    lambda_ij_reservoir_output_states = [np.zeros((1, n_reservior_neurons)), np.zeros((1, n_reservior_neurons))]\n",
    "    lambda_ij_reservoir_reservoir_states = [np.zeros((n_reservior_neurons, n_reservior_neurons)), np.zeros((n_reservior_neurons, n_reservior_neurons))]\n",
    "    lambda_ij_input_reservoir_states = [np.zeros((n_reservior_neurons, n_inputs)), np.zeros((n_reservior_neurons, n_inputs))]\n",
    "\n",
    "    # Variables for Adam optimization\n",
    "    V_1 = np.zeros((1, n_reservior_neurons))\n",
    "    V_2 = np.zeros((n_reservior_neurons, n_reservior_neurons))\n",
    "    V_3 = np.zeros((n_reservior_neurons, n_inputs))\n",
    "\n",
    "    m_1 = 0\n",
    "    v_1 = 0\n",
    "    m_2 = 0\n",
    "    v_2 = 0\n",
    "    m_3 = 0\n",
    "    v_3 = 0\n",
    "    beta_1 = 0.9\n",
    "    beta_2 = 0.999\n",
    "    g1 = 0\n",
    "    g2 = 0\n",
    "    g3 = 0\n",
    "    \n",
    "    for t in tqdm(range(time_steps)):\n",
    "            # forward_single_time_step(time, recorder) will evolve all neurons, connections and synapses. And record states to recorder.\n",
    "            network.forward_single_time_step(t, train_recorder) \n",
    "\n",
    "            # -------------------- Batch (size = window_size) Update weights by Adam Algorithm ---------------------------------\n",
    "            out_v = network.neurons['output']._states[0]\n",
    "            cost += 0.5 * (target_spikes[t] - out_v) ** 2\n",
    "            \n",
    "            ## 1. Update [reservoir - output]\n",
    "            update_error_output(t, target_spikes)\n",
    "            update_lambda_ij_reservoir_output(t)\n",
    "            delta_w_reservoir_output = np.multiply(np.array(error_output_states[0]), lambda_ij_reservoir_output_states[0]) # surrogate gradient\n",
    "            ## Adam Optimization\n",
    "            m_1 = beta_1 * m_1 + (1 - beta_1) * delta_w_reservoir_output\n",
    "            v_1 = beta_2 * v_1 + (1 - beta_2) * (delta_w_reservoir_output ** 2)\n",
    "            hat_m_1 = m_1 / (1 - beta_1)\n",
    "            hat_v_1 = v_1 / (1 - beta_2)\n",
    "            alpha = 0.0001\n",
    "            update_w_reservoir_output =  alpha * hat_m_1 / (np.sqrt(hat_v_1) + 1e-8)\n",
    "\n",
    "            g1 += update_w_reservoir_output\n",
    "            if t % window_size == 0:\n",
    "                network.connections[1][2].W -= g1.clip(-0.1, 0.1)\n",
    "                g1 = 0\n",
    "        \n",
    "            ## 2. Update [reservoir - reservoir]\n",
    "            update_error_reservoir_reservoir(network, t)\n",
    "            update_lambda_ij_reservoir_reservoir(t)\n",
    "            delta_w_reservoir_reservoir = np.array(error_reservoir_reservoir_states[0]) * lambda_ij_reservoir_reservoir_states[0] # surrogate gradient\n",
    "            ## Adam Optimization\n",
    "            m_2 = beta_1 * m_2 + (1 - beta_1) * delta_w_reservoir_reservoir\n",
    "            v_2 = beta_2 * v_2 + (1 - beta_2) * (delta_w_reservoir_reservoir ** 2)\n",
    "            hat_m_2 = m_2 / (1 - beta_1)\n",
    "            hat_v_2 = v_2 / (1 - beta_2)\n",
    "            alpha = 0.0001\n",
    "            update_w_reservoir_reservior =  alpha * hat_m_2 / (np.sqrt(hat_v_2) + 1e-8)\n",
    "\n",
    "            g2 += update_w_reservoir_reservior\n",
    "            if t % window_size == 0:\n",
    "                network.connections[0][2].W -= g2.clip(-0.1, 0.1)\n",
    "                g2 = 0\n",
    "            \n",
    "            ## 3. Update [input - reservoir]\n",
    "            update_error_input_reservoir(network, t)\n",
    "            update_lambda_ij_input_reservoir(t)\n",
    "            delta_w_input_reservoir = np.array(error_input_reservoir_states[0]) * lambda_ij_input_reservoir_states[0]\n",
    "            ## Adam Optimization\n",
    "            m_3 = beta_1 * m_3 + (1 - beta_1) * delta_w_input_reservoir\n",
    "            v_3 = beta_2 * v_3 + (1 - beta_2) * (delta_w_input_reservoir ** 2)\n",
    "            hat_m_3 = m_3 / (1 - beta_1)\n",
    "            hat_v_3 = v_3 / (1 - beta_2)\n",
    "            alpha = 0.0001\n",
    "            update_w_input_reservoir =  alpha * hat_m_3 / (np.sqrt(hat_v_3) + 1e-8)\n",
    "            g3 += update_w_input_reservoir\n",
    "            if t % window_size == 0:\n",
    "                network.connections[2][2].W -= g3.clip(-0.1, 0.1)\n",
    "                g3 = 0\n",
    "\n",
    "    print(\"End of an epoch, cost = %lf\" % (cost))\n",
    "    cost_record.append(cost)"
   ]
  },
  {
   "cell_type": "code",
   "execution_count": null,
   "id": "276993e8-425d-40ab-a106-5cb283223852",
   "metadata": {},
   "outputs": [],
   "source": [
    "plt.plot(range(len(cost_record)), cost_record)"
   ]
  },
  {
   "cell_type": "code",
   "execution_count": null,
   "id": "80f72ece-f87f-41d0-8356-2ed16fb3ecdc",
   "metadata": {
    "scrolled": true
   },
   "outputs": [],
   "source": [
    "plot_neuron_record(train_recorder, 'neuron_spike_series', lambda record_id, i: 'Neuron-id = \"' + record_id + ('_%d' % i) + '\"\\'s  V_out.', dt = dt)"
   ]
  },
  {
   "cell_type": "code",
   "execution_count": null,
   "id": "a2bf64c0-e3b5-4178-9368-f667aa47e33f",
   "metadata": {},
   "outputs": [],
   "source": [
    "out_spikes = train_recorder.neuron_recorders['neuron_spike_series'].record['output']"
   ]
  },
  {
   "cell_type": "code",
   "execution_count": null,
   "id": "25d233d6-f6e2-4bae-81af-1ce92465817b",
   "metadata": {},
   "outputs": [],
   "source": [
    "plt.plot(range(len(out_spikes)), out_spikes)"
   ]
  },
  {
   "cell_type": "code",
   "execution_count": null,
   "id": "4952ef0f-1d80-4c0e-9bfc-288431280539",
   "metadata": {},
   "outputs": [],
   "source": []
  },
  {
   "cell_type": "code",
   "execution_count": null,
   "id": "15a10aab-0379-4827-a7af-39af458216e7",
   "metadata": {},
   "outputs": [],
   "source": []
  },
  {
   "cell_type": "code",
   "execution_count": null,
   "id": "2fd37e7a-88f7-4224-b345-576325811b6c",
   "metadata": {},
   "outputs": [],
   "source": []
  },
  {
   "cell_type": "code",
   "execution_count": null,
   "id": "8956b760-c99a-4717-810d-6217c7789f23",
   "metadata": {},
   "outputs": [],
   "source": []
  },
  {
   "cell_type": "code",
   "execution_count": null,
   "id": "a3c134d2-0ec3-4d84-bcb7-48b6d5eb36f3",
   "metadata": {},
   "outputs": [],
   "source": []
  },
  {
   "cell_type": "code",
   "execution_count": null,
   "id": "2ec8d1a4-399e-4ff4-b386-7b72059004e1",
   "metadata": {},
   "outputs": [],
   "source": []
  },
  {
   "cell_type": "code",
   "execution_count": null,
   "id": "a448d7fe-07bf-4975-8a84-7e0f036f4271",
   "metadata": {},
   "outputs": [],
   "source": []
  },
  {
   "cell_type": "code",
   "execution_count": null,
   "id": "8b7d0b0e-8f72-47f5-8554-e36413492ccf",
   "metadata": {},
   "outputs": [],
   "source": []
  },
  {
   "cell_type": "code",
   "execution_count": null,
   "id": "d801054e-3938-4d7d-b590-168312e5a66a",
   "metadata": {},
   "outputs": [],
   "source": []
  }
 ],
 "metadata": {
  "kernelspec": {
   "display_name": "sakuyui37",
   "language": "python",
   "name": "python3"
  },
  "language_info": {
   "codemirror_mode": {
    "name": "ipython",
    "version": 3
   },
   "file_extension": ".py",
   "mimetype": "text/x-python",
   "name": "python",
   "nbconvert_exporter": "python",
   "pygments_lexer": "ipython3",
   "version": "3.7.16"
  }
 },
 "nbformat": 4,
 "nbformat_minor": 5
}
